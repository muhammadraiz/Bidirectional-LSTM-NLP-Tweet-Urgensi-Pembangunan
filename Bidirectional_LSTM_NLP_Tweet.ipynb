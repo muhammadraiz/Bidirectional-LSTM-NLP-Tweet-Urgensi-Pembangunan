{
  "cells": [
    {
      "cell_type": "markdown",
      "metadata": {
        "id": "enMBgPJL3YKk"
      },
      "source": [
        "# **LOAD DATASET & LIBRARY**"
      ]
    },
    {
      "cell_type": "code",
      "execution_count": null,
      "metadata": {
        "colab": {
          "base_uri": "https://localhost:8080/"
        },
        "id": "oFVUzB2M3Pc6",
        "outputId": "9ecce028-ca28-477a-d085-77f5828d7e5d"
      },
      "outputs": [
        {
          "output_type": "stream",
          "name": "stdout",
          "text": [
            "Requirement already satisfied: nltk in /usr/local/lib/python3.10/dist-packages (3.8.1)\n",
            "Requirement already satisfied: click in /usr/local/lib/python3.10/dist-packages (from nltk) (8.1.7)\n",
            "Requirement already satisfied: joblib in /usr/local/lib/python3.10/dist-packages (from nltk) (1.3.2)\n",
            "Requirement already satisfied: regex>=2021.8.3 in /usr/local/lib/python3.10/dist-packages (from nltk) (2023.6.3)\n",
            "Requirement already satisfied: tqdm in /usr/local/lib/python3.10/dist-packages (from nltk) (4.66.1)\n"
          ]
        }
      ],
      "source": [
        "pip install nltk\n"
      ]
    },
    {
      "cell_type": "code",
      "execution_count": null,
      "metadata": {
        "colab": {
          "base_uri": "https://localhost:8080/"
        },
        "id": "g6G8_9-tFEOo",
        "outputId": "b666df21-5155-47bc-a818-da1dc5c6df9c"
      },
      "outputs": [
        {
          "output_type": "stream",
          "name": "stdout",
          "text": [
            "Collecting torchmetrics\n",
            "  Downloading torchmetrics-1.2.1-py3-none-any.whl (806 kB)\n",
            "\u001b[2K     \u001b[90m━━━━━━━━━━━━━━━━━━━━━━━━━━━━━━━━━━━━━━━━\u001b[0m \u001b[32m806.1/806.1 kB\u001b[0m \u001b[31m4.6 MB/s\u001b[0m eta \u001b[36m0:00:00\u001b[0m\n",
            "\u001b[?25hRequirement already satisfied: numpy>1.20.0 in /usr/local/lib/python3.10/dist-packages (from torchmetrics) (1.23.5)\n",
            "Requirement already satisfied: packaging>17.1 in /usr/local/lib/python3.10/dist-packages (from torchmetrics) (23.2)\n",
            "Requirement already satisfied: torch>=1.8.1 in /usr/local/lib/python3.10/dist-packages (from torchmetrics) (2.1.0+cu118)\n",
            "Collecting lightning-utilities>=0.8.0 (from torchmetrics)\n",
            "  Downloading lightning_utilities-0.10.0-py3-none-any.whl (24 kB)\n",
            "Requirement already satisfied: setuptools in /usr/local/lib/python3.10/dist-packages (from lightning-utilities>=0.8.0->torchmetrics) (67.7.2)\n",
            "Requirement already satisfied: typing-extensions in /usr/local/lib/python3.10/dist-packages (from lightning-utilities>=0.8.0->torchmetrics) (4.5.0)\n",
            "Requirement already satisfied: filelock in /usr/local/lib/python3.10/dist-packages (from torch>=1.8.1->torchmetrics) (3.13.1)\n",
            "Requirement already satisfied: sympy in /usr/local/lib/python3.10/dist-packages (from torch>=1.8.1->torchmetrics) (1.12)\n",
            "Requirement already satisfied: networkx in /usr/local/lib/python3.10/dist-packages (from torch>=1.8.1->torchmetrics) (3.2.1)\n",
            "Requirement already satisfied: jinja2 in /usr/local/lib/python3.10/dist-packages (from torch>=1.8.1->torchmetrics) (3.1.2)\n",
            "Requirement already satisfied: fsspec in /usr/local/lib/python3.10/dist-packages (from torch>=1.8.1->torchmetrics) (2023.6.0)\n",
            "Requirement already satisfied: triton==2.1.0 in /usr/local/lib/python3.10/dist-packages (from torch>=1.8.1->torchmetrics) (2.1.0)\n",
            "Requirement already satisfied: MarkupSafe>=2.0 in /usr/local/lib/python3.10/dist-packages (from jinja2->torch>=1.8.1->torchmetrics) (2.1.3)\n",
            "Requirement already satisfied: mpmath>=0.19 in /usr/local/lib/python3.10/dist-packages (from sympy->torch>=1.8.1->torchmetrics) (1.3.0)\n",
            "Installing collected packages: lightning-utilities, torchmetrics\n",
            "Successfully installed lightning-utilities-0.10.0 torchmetrics-1.2.1\n"
          ]
        }
      ],
      "source": [
        "pip install torchmetrics"
      ]
    },
    {
      "cell_type": "code",
      "execution_count": null,
      "metadata": {
        "colab": {
          "base_uri": "https://localhost:8080/"
        },
        "id": "Z7UnJ4nbFRZ-",
        "outputId": "622cc6d6-4b8a-4391-ceae-833e146e6221"
      },
      "outputs": [
        {
          "output_type": "stream",
          "name": "stdout",
          "text": [
            "\u001b[38;5;2m✔ Download and installation successful\u001b[0m\n",
            "You can now load the package via spacy.load('en_core_web_lg')\n"
          ]
        }
      ],
      "source": [
        "import spacy\n",
        "spacy.cli.download(\"en_core_web_lg\")"
      ]
    },
    {
      "cell_type": "code",
      "execution_count": null,
      "metadata": {
        "id": "jYD8yntyTOvV"
      },
      "outputs": [],
      "source": [
        "import warnings\n",
        "warnings.filterwarnings('ignore')\n",
        "\n",
        "import pandas as pd\n",
        "import numpy as np\n",
        "import matplotlib.pyplot as plt\n",
        "import seaborn as sns\n",
        "from tqdm.auto import tqdm\n",
        "\n",
        "\n",
        "from spacy import displacy\n",
        "import nltk\n",
        "from nltk.corpus import stopwords\n",
        "from nltk.stem import WordNetLemmatizer\n",
        "import re\n",
        "from collections import Counter\n",
        "from string import punctuation\n",
        "\n",
        "from sklearn.feature_extraction.text import TfidfVectorizer\n",
        "from sklearn.model_selection import train_test_split\n",
        "from sklearn.preprocessing import LabelEncoder\n",
        "from sklearn.metrics import precision_score, recall_score , f1_score, accuracy_score,confusion_matrix\n",
        "\n",
        "from sklearn.linear_model import LogisticRegression\n",
        "from sklearn.svm import SVC\n",
        "from sklearn.ensemble import RandomForestClassifier\n",
        "from sklearn.tree import DecisionTreeClassifier\n",
        "\n",
        "from gensim.models import Word2Vec\n",
        "import torch\n",
        "import torch.nn as nn\n",
        "import torch.nn.functional as F\n",
        "from torch.optim import Adam\n",
        "from torch.utils.data import DataLoader , TensorDataset\n",
        "from torchsummary import summary\n",
        "from torchmetrics import ConfusionMatrix\n",
        "from mlxtend.plotting import plot_confusion_matrix\n",
        "\n",
        "lemma = WordNetLemmatizer()\n",
        "lb = LabelEncoder()\n",
        "nlp=spacy.load(\"en_core_web_lg\")"
      ]
    },
    {
      "cell_type": "code",
      "execution_count": null,
      "metadata": {
        "colab": {
          "base_uri": "https://localhost:8080/",
          "height": 625
        },
        "id": "0GYdX-IYTSBc",
        "outputId": "8088ce3d-e7fc-41b5-a5dd-4e0a9f848374"
      },
      "outputs": [
        {
          "output_type": "execute_result",
          "data": {
            "text/plain": [
              "                       created_at               id_str  \\\n",
              "0  Mon Dec 04 12:01:29 +0000 2023  1731640000000000000   \n",
              "1  Fri Dec 01 08:00:00 +0000 2023  1730500000000000000   \n",
              "2  Fri Dec 01 06:14:11 +0000 2023  1730470000000000000   \n",
              "3  Fri Dec 01 05:42:40 +0000 2023  1730460000000000000   \n",
              "4  Tue Nov 28 03:50:18 +0000 2023  1729350000000000000   \n",
              "\n",
              "                                           full_text  quote_count  \\\n",
              "0  Menurut laporan BPS, Sumatra Utara menjadi pro...            0   \n",
              "1  Diguyur hujan deras, jalan di Lebak, Banten, l...            0   \n",
              "2  Bapak/ibu, terdpt jalan yang rusak di daerah G...            0   \n",
              "3  Catatan infrastruktur jalan di Indonesia, berd...            0   \n",
              "4  Jenazah pria bernama Arju (45) di Polewali Man...            0   \n",
              "\n",
              "   reply_count  retweet_count  favorite_count lang          user_id_str  \\\n",
              "0            0              0               0   in  1316330000000000000   \n",
              "1            0              0               0   in             61377303   \n",
              "2            1              1               0   in  1574830000000000000   \n",
              "3            1             30              30   in             53878998   \n",
              "4            0              0               1   in            375995332   \n",
              "\n",
              "   conversation_id_str      username  \\\n",
              "0  1731640000000000000    databoksid   \n",
              "1  1730500000000000000  Lintas_MNCTV   \n",
              "2  1730470000000000000  Eddy30749724   \n",
              "3  1730460000000000000  datanesia_id   \n",
              "4  1729350000000000000  SeputariNews   \n",
              "\n",
              "                                           tweet_url  \n",
              "0  https://twitter.com/databoksid/status/17316448...  \n",
              "1  https://twitter.com/Lintas_MNCTV/status/173049...  \n",
              "2  https://twitter.com/Eddy30749724/status/173047...  \n",
              "3  https://twitter.com/datanesia_id/status/173046...  \n",
              "4  https://twitter.com/SeputariNews/status/172934...  "
            ],
            "text/html": [
              "\n",
              "  <div id=\"df-edfa584e-7375-43fd-a5f9-7de8c5f34591\" class=\"colab-df-container\">\n",
              "    <div>\n",
              "<style scoped>\n",
              "    .dataframe tbody tr th:only-of-type {\n",
              "        vertical-align: middle;\n",
              "    }\n",
              "\n",
              "    .dataframe tbody tr th {\n",
              "        vertical-align: top;\n",
              "    }\n",
              "\n",
              "    .dataframe thead th {\n",
              "        text-align: right;\n",
              "    }\n",
              "</style>\n",
              "<table border=\"1\" class=\"dataframe\">\n",
              "  <thead>\n",
              "    <tr style=\"text-align: right;\">\n",
              "      <th></th>\n",
              "      <th>created_at</th>\n",
              "      <th>id_str</th>\n",
              "      <th>full_text</th>\n",
              "      <th>quote_count</th>\n",
              "      <th>reply_count</th>\n",
              "      <th>retweet_count</th>\n",
              "      <th>favorite_count</th>\n",
              "      <th>lang</th>\n",
              "      <th>user_id_str</th>\n",
              "      <th>conversation_id_str</th>\n",
              "      <th>username</th>\n",
              "      <th>tweet_url</th>\n",
              "    </tr>\n",
              "  </thead>\n",
              "  <tbody>\n",
              "    <tr>\n",
              "      <th>0</th>\n",
              "      <td>Mon Dec 04 12:01:29 +0000 2023</td>\n",
              "      <td>1731640000000000000</td>\n",
              "      <td>Menurut laporan BPS, Sumatra Utara menjadi pro...</td>\n",
              "      <td>0</td>\n",
              "      <td>0</td>\n",
              "      <td>0</td>\n",
              "      <td>0</td>\n",
              "      <td>in</td>\n",
              "      <td>1316330000000000000</td>\n",
              "      <td>1731640000000000000</td>\n",
              "      <td>databoksid</td>\n",
              "      <td>https://twitter.com/databoksid/status/17316448...</td>\n",
              "    </tr>\n",
              "    <tr>\n",
              "      <th>1</th>\n",
              "      <td>Fri Dec 01 08:00:00 +0000 2023</td>\n",
              "      <td>1730500000000000000</td>\n",
              "      <td>Diguyur hujan deras, jalan di Lebak, Banten, l...</td>\n",
              "      <td>0</td>\n",
              "      <td>0</td>\n",
              "      <td>0</td>\n",
              "      <td>0</td>\n",
              "      <td>in</td>\n",
              "      <td>61377303</td>\n",
              "      <td>1730500000000000000</td>\n",
              "      <td>Lintas_MNCTV</td>\n",
              "      <td>https://twitter.com/Lintas_MNCTV/status/173049...</td>\n",
              "    </tr>\n",
              "    <tr>\n",
              "      <th>2</th>\n",
              "      <td>Fri Dec 01 06:14:11 +0000 2023</td>\n",
              "      <td>1730470000000000000</td>\n",
              "      <td>Bapak/ibu, terdpt jalan yang rusak di daerah G...</td>\n",
              "      <td>0</td>\n",
              "      <td>1</td>\n",
              "      <td>1</td>\n",
              "      <td>0</td>\n",
              "      <td>in</td>\n",
              "      <td>1574830000000000000</td>\n",
              "      <td>1730470000000000000</td>\n",
              "      <td>Eddy30749724</td>\n",
              "      <td>https://twitter.com/Eddy30749724/status/173047...</td>\n",
              "    </tr>\n",
              "    <tr>\n",
              "      <th>3</th>\n",
              "      <td>Fri Dec 01 05:42:40 +0000 2023</td>\n",
              "      <td>1730460000000000000</td>\n",
              "      <td>Catatan infrastruktur jalan di Indonesia, berd...</td>\n",
              "      <td>0</td>\n",
              "      <td>1</td>\n",
              "      <td>30</td>\n",
              "      <td>30</td>\n",
              "      <td>in</td>\n",
              "      <td>53878998</td>\n",
              "      <td>1730460000000000000</td>\n",
              "      <td>datanesia_id</td>\n",
              "      <td>https://twitter.com/datanesia_id/status/173046...</td>\n",
              "    </tr>\n",
              "    <tr>\n",
              "      <th>4</th>\n",
              "      <td>Tue Nov 28 03:50:18 +0000 2023</td>\n",
              "      <td>1729350000000000000</td>\n",
              "      <td>Jenazah pria bernama Arju (45) di Polewali Man...</td>\n",
              "      <td>0</td>\n",
              "      <td>0</td>\n",
              "      <td>0</td>\n",
              "      <td>1</td>\n",
              "      <td>in</td>\n",
              "      <td>375995332</td>\n",
              "      <td>1729350000000000000</td>\n",
              "      <td>SeputariNews</td>\n",
              "      <td>https://twitter.com/SeputariNews/status/172934...</td>\n",
              "    </tr>\n",
              "  </tbody>\n",
              "</table>\n",
              "</div>\n",
              "    <div class=\"colab-df-buttons\">\n",
              "\n",
              "  <div class=\"colab-df-container\">\n",
              "    <button class=\"colab-df-convert\" onclick=\"convertToInteractive('df-edfa584e-7375-43fd-a5f9-7de8c5f34591')\"\n",
              "            title=\"Convert this dataframe to an interactive table.\"\n",
              "            style=\"display:none;\">\n",
              "\n",
              "  <svg xmlns=\"http://www.w3.org/2000/svg\" height=\"24px\" viewBox=\"0 -960 960 960\">\n",
              "    <path d=\"M120-120v-720h720v720H120Zm60-500h600v-160H180v160Zm220 220h160v-160H400v160Zm0 220h160v-160H400v160ZM180-400h160v-160H180v160Zm440 0h160v-160H620v160ZM180-180h160v-160H180v160Zm440 0h160v-160H620v160Z\"/>\n",
              "  </svg>\n",
              "    </button>\n",
              "\n",
              "  <style>\n",
              "    .colab-df-container {\n",
              "      display:flex;\n",
              "      gap: 12px;\n",
              "    }\n",
              "\n",
              "    .colab-df-convert {\n",
              "      background-color: #E8F0FE;\n",
              "      border: none;\n",
              "      border-radius: 50%;\n",
              "      cursor: pointer;\n",
              "      display: none;\n",
              "      fill: #1967D2;\n",
              "      height: 32px;\n",
              "      padding: 0 0 0 0;\n",
              "      width: 32px;\n",
              "    }\n",
              "\n",
              "    .colab-df-convert:hover {\n",
              "      background-color: #E2EBFA;\n",
              "      box-shadow: 0px 1px 2px rgba(60, 64, 67, 0.3), 0px 1px 3px 1px rgba(60, 64, 67, 0.15);\n",
              "      fill: #174EA6;\n",
              "    }\n",
              "\n",
              "    .colab-df-buttons div {\n",
              "      margin-bottom: 4px;\n",
              "    }\n",
              "\n",
              "    [theme=dark] .colab-df-convert {\n",
              "      background-color: #3B4455;\n",
              "      fill: #D2E3FC;\n",
              "    }\n",
              "\n",
              "    [theme=dark] .colab-df-convert:hover {\n",
              "      background-color: #434B5C;\n",
              "      box-shadow: 0px 1px 3px 1px rgba(0, 0, 0, 0.15);\n",
              "      filter: drop-shadow(0px 1px 2px rgba(0, 0, 0, 0.3));\n",
              "      fill: #FFFFFF;\n",
              "    }\n",
              "  </style>\n",
              "\n",
              "    <script>\n",
              "      const buttonEl =\n",
              "        document.querySelector('#df-edfa584e-7375-43fd-a5f9-7de8c5f34591 button.colab-df-convert');\n",
              "      buttonEl.style.display =\n",
              "        google.colab.kernel.accessAllowed ? 'block' : 'none';\n",
              "\n",
              "      async function convertToInteractive(key) {\n",
              "        const element = document.querySelector('#df-edfa584e-7375-43fd-a5f9-7de8c5f34591');\n",
              "        const dataTable =\n",
              "          await google.colab.kernel.invokeFunction('convertToInteractive',\n",
              "                                                    [key], {});\n",
              "        if (!dataTable) return;\n",
              "\n",
              "        const docLinkHtml = 'Like what you see? Visit the ' +\n",
              "          '<a target=\"_blank\" href=https://colab.research.google.com/notebooks/data_table.ipynb>data table notebook</a>'\n",
              "          + ' to learn more about interactive tables.';\n",
              "        element.innerHTML = '';\n",
              "        dataTable['output_type'] = 'display_data';\n",
              "        await google.colab.output.renderOutput(dataTable, element);\n",
              "        const docLink = document.createElement('div');\n",
              "        docLink.innerHTML = docLinkHtml;\n",
              "        element.appendChild(docLink);\n",
              "      }\n",
              "    </script>\n",
              "  </div>\n",
              "\n",
              "\n",
              "<div id=\"df-8f324500-1227-444a-8d1b-2f7b2a0a9f50\">\n",
              "  <button class=\"colab-df-quickchart\" onclick=\"quickchart('df-8f324500-1227-444a-8d1b-2f7b2a0a9f50')\"\n",
              "            title=\"Suggest charts\"\n",
              "            style=\"display:none;\">\n",
              "\n",
              "<svg xmlns=\"http://www.w3.org/2000/svg\" height=\"24px\"viewBox=\"0 0 24 24\"\n",
              "     width=\"24px\">\n",
              "    <g>\n",
              "        <path d=\"M19 3H5c-1.1 0-2 .9-2 2v14c0 1.1.9 2 2 2h14c1.1 0 2-.9 2-2V5c0-1.1-.9-2-2-2zM9 17H7v-7h2v7zm4 0h-2V7h2v10zm4 0h-2v-4h2v4z\"/>\n",
              "    </g>\n",
              "</svg>\n",
              "  </button>\n",
              "\n",
              "<style>\n",
              "  .colab-df-quickchart {\n",
              "      --bg-color: #E8F0FE;\n",
              "      --fill-color: #1967D2;\n",
              "      --hover-bg-color: #E2EBFA;\n",
              "      --hover-fill-color: #174EA6;\n",
              "      --disabled-fill-color: #AAA;\n",
              "      --disabled-bg-color: #DDD;\n",
              "  }\n",
              "\n",
              "  [theme=dark] .colab-df-quickchart {\n",
              "      --bg-color: #3B4455;\n",
              "      --fill-color: #D2E3FC;\n",
              "      --hover-bg-color: #434B5C;\n",
              "      --hover-fill-color: #FFFFFF;\n",
              "      --disabled-bg-color: #3B4455;\n",
              "      --disabled-fill-color: #666;\n",
              "  }\n",
              "\n",
              "  .colab-df-quickchart {\n",
              "    background-color: var(--bg-color);\n",
              "    border: none;\n",
              "    border-radius: 50%;\n",
              "    cursor: pointer;\n",
              "    display: none;\n",
              "    fill: var(--fill-color);\n",
              "    height: 32px;\n",
              "    padding: 0;\n",
              "    width: 32px;\n",
              "  }\n",
              "\n",
              "  .colab-df-quickchart:hover {\n",
              "    background-color: var(--hover-bg-color);\n",
              "    box-shadow: 0 1px 2px rgba(60, 64, 67, 0.3), 0 1px 3px 1px rgba(60, 64, 67, 0.15);\n",
              "    fill: var(--button-hover-fill-color);\n",
              "  }\n",
              "\n",
              "  .colab-df-quickchart-complete:disabled,\n",
              "  .colab-df-quickchart-complete:disabled:hover {\n",
              "    background-color: var(--disabled-bg-color);\n",
              "    fill: var(--disabled-fill-color);\n",
              "    box-shadow: none;\n",
              "  }\n",
              "\n",
              "  .colab-df-spinner {\n",
              "    border: 2px solid var(--fill-color);\n",
              "    border-color: transparent;\n",
              "    border-bottom-color: var(--fill-color);\n",
              "    animation:\n",
              "      spin 1s steps(1) infinite;\n",
              "  }\n",
              "\n",
              "  @keyframes spin {\n",
              "    0% {\n",
              "      border-color: transparent;\n",
              "      border-bottom-color: var(--fill-color);\n",
              "      border-left-color: var(--fill-color);\n",
              "    }\n",
              "    20% {\n",
              "      border-color: transparent;\n",
              "      border-left-color: var(--fill-color);\n",
              "      border-top-color: var(--fill-color);\n",
              "    }\n",
              "    30% {\n",
              "      border-color: transparent;\n",
              "      border-left-color: var(--fill-color);\n",
              "      border-top-color: var(--fill-color);\n",
              "      border-right-color: var(--fill-color);\n",
              "    }\n",
              "    40% {\n",
              "      border-color: transparent;\n",
              "      border-right-color: var(--fill-color);\n",
              "      border-top-color: var(--fill-color);\n",
              "    }\n",
              "    60% {\n",
              "      border-color: transparent;\n",
              "      border-right-color: var(--fill-color);\n",
              "    }\n",
              "    80% {\n",
              "      border-color: transparent;\n",
              "      border-right-color: var(--fill-color);\n",
              "      border-bottom-color: var(--fill-color);\n",
              "    }\n",
              "    90% {\n",
              "      border-color: transparent;\n",
              "      border-bottom-color: var(--fill-color);\n",
              "    }\n",
              "  }\n",
              "</style>\n",
              "\n",
              "  <script>\n",
              "    async function quickchart(key) {\n",
              "      const quickchartButtonEl =\n",
              "        document.querySelector('#' + key + ' button');\n",
              "      quickchartButtonEl.disabled = true;  // To prevent multiple clicks.\n",
              "      quickchartButtonEl.classList.add('colab-df-spinner');\n",
              "      try {\n",
              "        const charts = await google.colab.kernel.invokeFunction(\n",
              "            'suggestCharts', [key], {});\n",
              "      } catch (error) {\n",
              "        console.error('Error during call to suggestCharts:', error);\n",
              "      }\n",
              "      quickchartButtonEl.classList.remove('colab-df-spinner');\n",
              "      quickchartButtonEl.classList.add('colab-df-quickchart-complete');\n",
              "    }\n",
              "    (() => {\n",
              "      let quickchartButtonEl =\n",
              "        document.querySelector('#df-8f324500-1227-444a-8d1b-2f7b2a0a9f50 button');\n",
              "      quickchartButtonEl.style.display =\n",
              "        google.colab.kernel.accessAllowed ? 'block' : 'none';\n",
              "    })();\n",
              "  </script>\n",
              "</div>\n",
              "    </div>\n",
              "  </div>\n"
            ]
          },
          "metadata": {},
          "execution_count": 6
        }
      ],
      "source": [
        "dataset = pd.read_excel('/content/dataset.xls')\n",
        "dataset.head()"
      ]
    },
    {
      "cell_type": "code",
      "execution_count": null,
      "metadata": {
        "colab": {
          "base_uri": "https://localhost:8080/"
        },
        "id": "3oAMlijvGb_N",
        "outputId": "7df12d95-19a4-4d6d-a98e-c197a4f75eba"
      },
      "outputs": [
        {
          "output_type": "execute_result",
          "data": {
            "text/plain": [
              "created_at             0\n",
              "id_str                 0\n",
              "full_text              5\n",
              "quote_count            0\n",
              "reply_count            0\n",
              "retweet_count          0\n",
              "favorite_count         0\n",
              "lang                   0\n",
              "user_id_str            0\n",
              "conversation_id_str    0\n",
              "username               0\n",
              "tweet_url              0\n",
              "dtype: int64"
            ]
          },
          "metadata": {},
          "execution_count": 7
        }
      ],
      "source": [
        "dataset.isnull().sum()"
      ]
    },
    {
      "cell_type": "code",
      "execution_count": null,
      "metadata": {
        "id": "j8ZwclllHChP"
      },
      "outputs": [],
      "source": [
        "dataset_cleaned_rows = dataset.dropna()\n",
        "dataset_cleaned_columns = dataset.dropna(axis=1)"
      ]
    },
    {
      "cell_type": "markdown",
      "metadata": {
        "id": "6O0qO4oK3PyT"
      },
      "source": [
        "# **PRE PROCESSING** #"
      ]
    },
    {
      "cell_type": "code",
      "execution_count": null,
      "metadata": {
        "id": "vqnbC_h79Xeb"
      },
      "outputs": [],
      "source": [
        "def Most_Words_used(full_text , num_of_words) :\n",
        "    all_text = ''.join(dataset[full_text].values)\n",
        "\n",
        "    all_text = re.sub(r'http\\S+', '', all_text)\n",
        "    all_text = re.sub(r'@\\S+', '', all_text)\n",
        "    all_text = re.sub(r'#\\S+', '', all_text)\n",
        "    all_text = re.sub(r'\\d+', '',all_text)\n",
        "    all_text = re.sub(r'[^\\w\\s]', '',all_text)\n",
        "\n",
        "\n",
        "    words = all_text.split()\n",
        "\n",
        "    stop_words = set(stopwords.words('english'))\n",
        "    words = [word for word in words if not word in stop_words]\n",
        "\n",
        "    word_counts = Counter(words)\n",
        "\n",
        "    top_words = word_counts.most_common(num_of_words)\n",
        "\n",
        "    return top_words"
      ]
    },
    {
      "cell_type": "code",
      "execution_count": null,
      "metadata": {
        "id": "QY7PDs5UH4K1"
      },
      "outputs": [],
      "source": [
        "def DataPrep(full_text) :\n",
        "    full_text = re.sub('<.*?>', '', full_text)\n",
        "    full_text = re.sub(r'http\\S+', '', full_text)\n",
        "    full_text = re.sub(r'@\\S+', '', full_text)\n",
        "    full_text = re.sub(r'#\\S+', '', full_text)\n",
        "    full_text = re.sub(r'\\d+', '', full_text)\n",
        "    full_text = re.sub(r'[^\\w\\s]', '', full_text)\n",
        "    full_text = re.sub(r'@(\\w+)', '', full_text)\n",
        "\n",
        "    tokens = nltk.word_tokenize(full_text)\n",
        "\n",
        "    #remove puncs\n",
        "    punc = list(punctuation)\n",
        "    words = [w for w in tokens if w not in punc]\n",
        "\n",
        "    #remove stop words\n",
        "    stop_words = set(stopwords.words('english'))\n",
        "    words = [w.lower() for w in words if not w.lower() in stop_words]\n",
        "\n",
        "    # lemmatization\n",
        "    words = [lemma.lemmatize(w) for w in words]\n",
        "\n",
        "    text = ' '.join(words)\n",
        "\n",
        "    return text"
      ]
    },
    {
      "cell_type": "code",
      "execution_count": null,
      "metadata": {
        "colab": {
          "base_uri": "https://localhost:8080/"
        },
        "id": "o-9r130F38Z8",
        "outputId": "4673302d-560a-4fe6-8f52-82b4cd7c1391"
      },
      "outputs": [
        {
          "output_type": "stream",
          "name": "stderr",
          "text": [
            "[nltk_data] Downloading package vader_lexicon to /root/nltk_data...\n",
            "[nltk_data] Downloading package punkt to /root/nltk_data...\n",
            "[nltk_data]   Unzipping tokenizers/punkt.zip.\n",
            "[nltk_data] Downloading package stopwords to /root/nltk_data...\n",
            "[nltk_data]   Unzipping corpora/stopwords.zip.\n",
            "[nltk_data] Downloading package wordnet to /root/nltk_data...\n"
          ]
        },
        {
          "output_type": "execute_result",
          "data": {
            "text/plain": [
              "True"
            ]
          },
          "metadata": {},
          "execution_count": 11
        }
      ],
      "source": [
        "nltk.download('vader_lexicon')\n",
        "nltk.download('punkt')\n",
        "nltk.download('stopwords')\n",
        "nltk.download('wordnet')"
      ]
    },
    {
      "cell_type": "code",
      "execution_count": null,
      "metadata": {
        "id": "37SUuo-UDiqG"
      },
      "outputs": [],
      "source": [
        "dataset['full_text'] = dataset['full_text'].astype(str).apply(DataPrep)\n"
      ]
    },
    {
      "cell_type": "code",
      "execution_count": null,
      "metadata": {
        "colab": {
          "base_uri": "https://localhost:8080/"
        },
        "id": "d5oWLePHDzLj",
        "outputId": "3a5f038f-98c6-44fe-f819-de86fab2d2e9"
      },
      "outputs": [
        {
          "output_type": "stream",
          "name": "stdout",
          "text": [
            "0       menurut laporan bps sumatra utara menjadi prov...\n",
            "1       diguyur hujan deras jalan di lebak banten long...\n",
            "2       bapakibu terdpt jalan yang rusak di daerah gra...\n",
            "3       catatan infrastruktur jalan di indonesia berda...\n",
            "4       jenazah pria bernama arju di polewali mandar t...\n",
            "                              ...                        \n",
            "6054    orang jawa solo ewuh pekewuh dan tidak mau the...\n",
            "6055    kak maaf oot mau nanya apakah memang di pedala...\n",
            "6056    ï sedangkan pada rambut dan kuku tidak ada lag...\n",
            "6057    berangkat dari meeting informal tersebut bayer...\n",
            "6058    testimoni hari ini yang punya masalah sinyal j...\n",
            "Name: full_text, Length: 6059, dtype: object\n"
          ]
        }
      ],
      "source": [
        "print(dataset['full_text'])"
      ]
    },
    {
      "cell_type": "code",
      "execution_count": null,
      "metadata": {
        "colab": {
          "base_uri": "https://localhost:8080/"
        },
        "id": "AD5kTz6MIyhT",
        "outputId": "5a452239-baae-46e8-cd45-0169324411ec"
      },
      "outputs": [
        {
          "output_type": "stream",
          "name": "stdout",
          "text": [
            "There are around 540 duplicated tweets, we will remove them.\n"
          ]
        }
      ],
      "source": [
        "print(f'There are around {int(dataset[\"full_text\"].duplicated().sum())} duplicated tweets, we will remove them.')"
      ]
    },
    {
      "cell_type": "code",
      "execution_count": null,
      "metadata": {
        "id": "BjF-IML-I8sk"
      },
      "outputs": [],
      "source": [
        "dataset.drop_duplicates(\"full_text\", inplace=True)"
      ]
    },
    {
      "cell_type": "code",
      "execution_count": null,
      "metadata": {
        "colab": {
          "base_uri": "https://localhost:8080/"
        },
        "id": "W_UMQoEEJDTi",
        "outputId": "bcfb374a-ef09-473c-de92-21ffc2ef7a39"
      },
      "outputs": [
        {
          "output_type": "stream",
          "name": "stdout",
          "text": [
            "There are around 0 duplicated tweets, we will remove them.\n"
          ]
        }
      ],
      "source": [
        "print(f'There are around {int(dataset[\"full_text\"].duplicated().sum())} duplicated tweets, we will remove them.')"
      ]
    },
    {
      "cell_type": "markdown",
      "metadata": {
        "id": "AZSHga9LC7dj"
      },
      "source": [
        "# **VADER LABELLING** #"
      ]
    },
    {
      "cell_type": "code",
      "execution_count": null,
      "metadata": {
        "id": "OyNNSxgM5d5_"
      },
      "outputs": [],
      "source": [
        "from nltk.sentiment.vader import SentimentIntensityAnalyzer\n"
      ]
    },
    {
      "cell_type": "code",
      "execution_count": null,
      "metadata": {
        "colab": {
          "base_uri": "https://localhost:8080/"
        },
        "id": "eBgSxVPpfz2U",
        "outputId": "dc211716-b124-4221-c047-7a7861ee2461"
      },
      "outputs": [
        {
          "output_type": "stream",
          "name": "stdout",
          "text": [
            "                                              full_text         label\n",
            "0     menurut laporan bps sumatra utara menjadi prov...  tidak urgent\n",
            "1     diguyur hujan deras jalan di lebak banten long...  tidak urgent\n",
            "2     bapakibu terdpt jalan yang rusak di daerah gra...  tidak urgent\n",
            "3     catatan infrastruktur jalan di indonesia berda...  tidak urgent\n",
            "4     jenazah pria bernama arju di polewali mandar t...  tidak urgent\n",
            "...                                                 ...           ...\n",
            "6054  orang jawa solo ewuh pekewuh dan tidak mau the...  tidak urgent\n",
            "6055  kak maaf oot mau nanya apakah memang di pedala...  tidak urgent\n",
            "6056  ï sedangkan pada rambut dan kuku tidak ada lag...  tidak urgent\n",
            "6057  berangkat dari meeting informal tersebut bayer...  tidak urgent\n",
            "6058  testimoni hari ini yang punya masalah sinyal j...  tidak urgent\n",
            "\n",
            "[5519 rows x 2 columns]\n"
          ]
        }
      ],
      "source": [
        "# Inisialisasi VADER\n",
        "sia = SentimentIntensityAnalyzer()\n",
        "\n",
        "# Fungsi untuk menentukan kategori urgent atau tidak urgent berdasarkan sentimen\n",
        "def categorize_sentiment(row):\n",
        "    sentiment_scores = sia.polarity_scores(row['full_text'])\n",
        "\n",
        "    # Misalnya, jika nilai sentimen negatif lebih tinggi, kategorikan sebagai 'urgent'\n",
        "    if any(word in row['full_text'].lower() for word in ['tanya','mari','nanya', 'bertanya']):\n",
        "        return 'tidak urgent'\n",
        "    elif any(word in row['full_text'].lower() for word in ['berkali-kali', 'meresahkan', 'sudah lama','terus','banyak','berhari-hari','berbulan-bulan','berminggu-minggu','mati','bahaya','berbahaya','sekali','kehilangan nyawa']):\n",
        "        return 'urgent'\n",
        "    else:\n",
        "        return 'tidak urgent'\n",
        "\n",
        "# Terapkan fungsi pada setiap baris data untuk menentukan kategori\n",
        "dataset['label'] = dataset.apply(categorize_sentiment, axis=1)\n",
        "\n",
        "# Tampilkan data yang telah ditambahkan kategori urgent atau tidak urgent\n",
        "print(dataset[['full_text', 'label']])"
      ]
    },
    {
      "cell_type": "code",
      "execution_count": null,
      "metadata": {
        "colab": {
          "base_uri": "https://localhost:8080/"
        },
        "id": "sWsffdDEgUHX",
        "outputId": "4c496e53-c7c0-4fec-876e-ac6c7ef4d992"
      },
      "outputs": [
        {
          "output_type": "execute_result",
          "data": {
            "text/plain": [
              "tidak urgent    3908\n",
              "urgent          1611\n",
              "Name: label, dtype: int64"
            ]
          },
          "metadata": {},
          "execution_count": 19
        }
      ],
      "source": [
        "dataset['label'].value_counts()"
      ]
    },
    {
      "cell_type": "code",
      "source": [
        "!pip install xlwt\n",
        "\n",
        "# Simpan dataframe yang sudah dilabeli ke file Excel\n",
        "labeled_file_path = 'data_twitter_labeled.xls'  # Ubah ekstensi file sesuai kebutuhan, misalnya .xls atau .xlsx\n",
        "dataset.to_excel(labeled_file_path, index=False)\n",
        "\n",
        "# Berikan tautan untuk mengunduh file labeled Excel\n",
        "download_link = f'<a href=\"{labeled_file_path}\" download>Klik di sini</a> untuk mengunduh file labeled Excel.'"
      ],
      "metadata": {
        "colab": {
          "base_uri": "https://localhost:8080/"
        },
        "id": "TTI6hkBJUGSF",
        "outputId": "42f795cc-3606-4032-d5fa-d6c314dbffcd"
      },
      "execution_count": null,
      "outputs": [
        {
          "output_type": "stream",
          "name": "stdout",
          "text": [
            "Requirement already satisfied: xlwt in /usr/local/lib/python3.10/dist-packages (1.3.0)\n"
          ]
        }
      ]
    },
    {
      "cell_type": "code",
      "source": [
        "from google.colab import files\n",
        "\n",
        "files.download('data_twitter_labeled.xls')"
      ],
      "metadata": {
        "colab": {
          "base_uri": "https://localhost:8080/",
          "height": 17
        },
        "id": "EEKDxOIsUw0b",
        "outputId": "b7509ffa-2e97-4a47-859d-3fdf7cea70f3"
      },
      "execution_count": null,
      "outputs": [
        {
          "output_type": "display_data",
          "data": {
            "text/plain": [
              "<IPython.core.display.Javascript object>"
            ],
            "application/javascript": [
              "\n",
              "    async function download(id, filename, size) {\n",
              "      if (!google.colab.kernel.accessAllowed) {\n",
              "        return;\n",
              "      }\n",
              "      const div = document.createElement('div');\n",
              "      const label = document.createElement('label');\n",
              "      label.textContent = `Downloading \"${filename}\": `;\n",
              "      div.appendChild(label);\n",
              "      const progress = document.createElement('progress');\n",
              "      progress.max = size;\n",
              "      div.appendChild(progress);\n",
              "      document.body.appendChild(div);\n",
              "\n",
              "      const buffers = [];\n",
              "      let downloaded = 0;\n",
              "\n",
              "      const channel = await google.colab.kernel.comms.open(id);\n",
              "      // Send a message to notify the kernel that we're ready.\n",
              "      channel.send({})\n",
              "\n",
              "      for await (const message of channel.messages) {\n",
              "        // Send a message to notify the kernel that we're ready.\n",
              "        channel.send({})\n",
              "        if (message.buffers) {\n",
              "          for (const buffer of message.buffers) {\n",
              "            buffers.push(buffer);\n",
              "            downloaded += buffer.byteLength;\n",
              "            progress.value = downloaded;\n",
              "          }\n",
              "        }\n",
              "      }\n",
              "      const blob = new Blob(buffers, {type: 'application/binary'});\n",
              "      const a = document.createElement('a');\n",
              "      a.href = window.URL.createObjectURL(blob);\n",
              "      a.download = filename;\n",
              "      div.appendChild(a);\n",
              "      a.click();\n",
              "      div.remove();\n",
              "    }\n",
              "  "
            ]
          },
          "metadata": {}
        },
        {
          "output_type": "display_data",
          "data": {
            "text/plain": [
              "<IPython.core.display.Javascript object>"
            ],
            "application/javascript": [
              "download(\"download_e1ff2a4c-94dc-4b0f-9957-cf345d245dd1\", \"data_twitter_labeled.xls\", 2358272)"
            ]
          },
          "metadata": {}
        }
      ]
    },
    {
      "cell_type": "markdown",
      "metadata": {
        "id": "nvFqSEMTr1wx"
      },
      "source": [
        "# **LOAD DATASET LABELED**"
      ]
    },
    {
      "cell_type": "code",
      "execution_count": null,
      "metadata": {
        "colab": {
          "base_uri": "https://localhost:8080/"
        },
        "id": "MNsKZA_vrwGo",
        "outputId": "34bd7388-5f8a-41c5-fb9c-291268a5d812"
      },
      "outputs": [
        {
          "output_type": "stream",
          "name": "stdout",
          "text": [
            "Collecting rank_bm25\n",
            "  Downloading rank_bm25-0.2.2-py3-none-any.whl (8.6 kB)\n",
            "Requirement already satisfied: numpy in /usr/local/lib/python3.10/dist-packages (from rank_bm25) (1.23.5)\n",
            "Installing collected packages: rank_bm25\n",
            "Successfully installed rank_bm25-0.2.2\n"
          ]
        }
      ],
      "source": [
        "pip install rank_bm25"
      ]
    },
    {
      "cell_type": "code",
      "execution_count": null,
      "metadata": {
        "id": "4ZTNfhN2sWKp"
      },
      "outputs": [],
      "source": [
        "import pandas as pd\n",
        "#preprocesing\n",
        "import nltk\n",
        "from nltk.corpus import stopwords\n",
        "from nltk.tokenize import word_tokenize\n",
        "from nltk.stem import PorterStemmer\n",
        "import re\n",
        "#split data\n",
        "from sklearn.model_selection import train_test_split\n",
        "from scipy.sparse import hstack\n",
        "from sklearn.feature_extraction.text import CountVectorizer\n",
        "# mb25\n",
        "from rank_bm25 import BM25Okapi\n",
        "from sklearn.decomposition import PCA\n",
        "import matplotlib.pyplot as plt\n",
        "import numpy as np\n",
        "import pandas as pd\n",
        "from sklearn.preprocessing import LabelEncoder\n"
      ]
    },
    {
      "cell_type": "code",
      "execution_count": null,
      "metadata": {
        "colab": {
          "base_uri": "https://localhost:8080/",
          "height": 625
        },
        "id": "1pS1RCJqsXTa",
        "outputId": "4f4e4708-f822-4dca-db0e-832c6a07ebe5"
      },
      "outputs": [
        {
          "output_type": "execute_result",
          "data": {
            "text/plain": [
              "                       created_at               id_str  \\\n",
              "0  Mon Dec 04 12:01:29 +0000 2023  1731640000000000000   \n",
              "1  Fri Dec 01 08:00:00 +0000 2023  1730500000000000000   \n",
              "2  Fri Dec 01 06:14:11 +0000 2023  1730470000000000000   \n",
              "3  Fri Dec 01 05:42:40 +0000 2023  1730460000000000000   \n",
              "4  Tue Nov 28 03:50:18 +0000 2023  1729350000000000000   \n",
              "\n",
              "                                           full_text  quote_count  \\\n",
              "0  menurut laporan bps sumatra utara menjadi prov...            0   \n",
              "1  diguyur hujan deras jalan di lebak banten long...            0   \n",
              "2  bapakibu terdpt jalan yang rusak di daerah gra...            0   \n",
              "3  catatan infrastruktur jalan di indonesia berda...            0   \n",
              "4  jenazah pria bernama arju di polewali mandar t...            0   \n",
              "\n",
              "   reply_count  retweet_count  favorite_count lang          user_id_str  \\\n",
              "0            0              0               0   in  1316330000000000000   \n",
              "1            0              0               0   in             61377303   \n",
              "2            1              1               0   in  1574830000000000000   \n",
              "3            1             30              30   in             53878998   \n",
              "4            0              0               1   in            375995332   \n",
              "\n",
              "   conversation_id_str      username  \\\n",
              "0  1731640000000000000    databoksid   \n",
              "1  1730500000000000000  Lintas_MNCTV   \n",
              "2  1730470000000000000  Eddy30749724   \n",
              "3  1730460000000000000  datanesia_id   \n",
              "4  1729350000000000000  SeputariNews   \n",
              "\n",
              "                                           tweet_url         label  \n",
              "0  https://twitter.com/databoksid/status/17316448...  tidak urgent  \n",
              "1  https://twitter.com/Lintas_MNCTV/status/173049...  tidak urgent  \n",
              "2  https://twitter.com/Eddy30749724/status/173047...  tidak urgent  \n",
              "3  https://twitter.com/datanesia_id/status/173046...  tidak urgent  \n",
              "4  https://twitter.com/SeputariNews/status/172934...  tidak urgent  "
            ],
            "text/html": [
              "\n",
              "  <div id=\"df-063313c7-710a-4e19-a282-1bc0cfc0ad33\" class=\"colab-df-container\">\n",
              "    <div>\n",
              "<style scoped>\n",
              "    .dataframe tbody tr th:only-of-type {\n",
              "        vertical-align: middle;\n",
              "    }\n",
              "\n",
              "    .dataframe tbody tr th {\n",
              "        vertical-align: top;\n",
              "    }\n",
              "\n",
              "    .dataframe thead th {\n",
              "        text-align: right;\n",
              "    }\n",
              "</style>\n",
              "<table border=\"1\" class=\"dataframe\">\n",
              "  <thead>\n",
              "    <tr style=\"text-align: right;\">\n",
              "      <th></th>\n",
              "      <th>created_at</th>\n",
              "      <th>id_str</th>\n",
              "      <th>full_text</th>\n",
              "      <th>quote_count</th>\n",
              "      <th>reply_count</th>\n",
              "      <th>retweet_count</th>\n",
              "      <th>favorite_count</th>\n",
              "      <th>lang</th>\n",
              "      <th>user_id_str</th>\n",
              "      <th>conversation_id_str</th>\n",
              "      <th>username</th>\n",
              "      <th>tweet_url</th>\n",
              "      <th>label</th>\n",
              "    </tr>\n",
              "  </thead>\n",
              "  <tbody>\n",
              "    <tr>\n",
              "      <th>0</th>\n",
              "      <td>Mon Dec 04 12:01:29 +0000 2023</td>\n",
              "      <td>1731640000000000000</td>\n",
              "      <td>menurut laporan bps sumatra utara menjadi prov...</td>\n",
              "      <td>0</td>\n",
              "      <td>0</td>\n",
              "      <td>0</td>\n",
              "      <td>0</td>\n",
              "      <td>in</td>\n",
              "      <td>1316330000000000000</td>\n",
              "      <td>1731640000000000000</td>\n",
              "      <td>databoksid</td>\n",
              "      <td>https://twitter.com/databoksid/status/17316448...</td>\n",
              "      <td>tidak urgent</td>\n",
              "    </tr>\n",
              "    <tr>\n",
              "      <th>1</th>\n",
              "      <td>Fri Dec 01 08:00:00 +0000 2023</td>\n",
              "      <td>1730500000000000000</td>\n",
              "      <td>diguyur hujan deras jalan di lebak banten long...</td>\n",
              "      <td>0</td>\n",
              "      <td>0</td>\n",
              "      <td>0</td>\n",
              "      <td>0</td>\n",
              "      <td>in</td>\n",
              "      <td>61377303</td>\n",
              "      <td>1730500000000000000</td>\n",
              "      <td>Lintas_MNCTV</td>\n",
              "      <td>https://twitter.com/Lintas_MNCTV/status/173049...</td>\n",
              "      <td>tidak urgent</td>\n",
              "    </tr>\n",
              "    <tr>\n",
              "      <th>2</th>\n",
              "      <td>Fri Dec 01 06:14:11 +0000 2023</td>\n",
              "      <td>1730470000000000000</td>\n",
              "      <td>bapakibu terdpt jalan yang rusak di daerah gra...</td>\n",
              "      <td>0</td>\n",
              "      <td>1</td>\n",
              "      <td>1</td>\n",
              "      <td>0</td>\n",
              "      <td>in</td>\n",
              "      <td>1574830000000000000</td>\n",
              "      <td>1730470000000000000</td>\n",
              "      <td>Eddy30749724</td>\n",
              "      <td>https://twitter.com/Eddy30749724/status/173047...</td>\n",
              "      <td>tidak urgent</td>\n",
              "    </tr>\n",
              "    <tr>\n",
              "      <th>3</th>\n",
              "      <td>Fri Dec 01 05:42:40 +0000 2023</td>\n",
              "      <td>1730460000000000000</td>\n",
              "      <td>catatan infrastruktur jalan di indonesia berda...</td>\n",
              "      <td>0</td>\n",
              "      <td>1</td>\n",
              "      <td>30</td>\n",
              "      <td>30</td>\n",
              "      <td>in</td>\n",
              "      <td>53878998</td>\n",
              "      <td>1730460000000000000</td>\n",
              "      <td>datanesia_id</td>\n",
              "      <td>https://twitter.com/datanesia_id/status/173046...</td>\n",
              "      <td>tidak urgent</td>\n",
              "    </tr>\n",
              "    <tr>\n",
              "      <th>4</th>\n",
              "      <td>Tue Nov 28 03:50:18 +0000 2023</td>\n",
              "      <td>1729350000000000000</td>\n",
              "      <td>jenazah pria bernama arju di polewali mandar t...</td>\n",
              "      <td>0</td>\n",
              "      <td>0</td>\n",
              "      <td>0</td>\n",
              "      <td>1</td>\n",
              "      <td>in</td>\n",
              "      <td>375995332</td>\n",
              "      <td>1729350000000000000</td>\n",
              "      <td>SeputariNews</td>\n",
              "      <td>https://twitter.com/SeputariNews/status/172934...</td>\n",
              "      <td>tidak urgent</td>\n",
              "    </tr>\n",
              "  </tbody>\n",
              "</table>\n",
              "</div>\n",
              "    <div class=\"colab-df-buttons\">\n",
              "\n",
              "  <div class=\"colab-df-container\">\n",
              "    <button class=\"colab-df-convert\" onclick=\"convertToInteractive('df-063313c7-710a-4e19-a282-1bc0cfc0ad33')\"\n",
              "            title=\"Convert this dataframe to an interactive table.\"\n",
              "            style=\"display:none;\">\n",
              "\n",
              "  <svg xmlns=\"http://www.w3.org/2000/svg\" height=\"24px\" viewBox=\"0 -960 960 960\">\n",
              "    <path d=\"M120-120v-720h720v720H120Zm60-500h600v-160H180v160Zm220 220h160v-160H400v160Zm0 220h160v-160H400v160ZM180-400h160v-160H180v160Zm440 0h160v-160H620v160ZM180-180h160v-160H180v160Zm440 0h160v-160H620v160Z\"/>\n",
              "  </svg>\n",
              "    </button>\n",
              "\n",
              "  <style>\n",
              "    .colab-df-container {\n",
              "      display:flex;\n",
              "      gap: 12px;\n",
              "    }\n",
              "\n",
              "    .colab-df-convert {\n",
              "      background-color: #E8F0FE;\n",
              "      border: none;\n",
              "      border-radius: 50%;\n",
              "      cursor: pointer;\n",
              "      display: none;\n",
              "      fill: #1967D2;\n",
              "      height: 32px;\n",
              "      padding: 0 0 0 0;\n",
              "      width: 32px;\n",
              "    }\n",
              "\n",
              "    .colab-df-convert:hover {\n",
              "      background-color: #E2EBFA;\n",
              "      box-shadow: 0px 1px 2px rgba(60, 64, 67, 0.3), 0px 1px 3px 1px rgba(60, 64, 67, 0.15);\n",
              "      fill: #174EA6;\n",
              "    }\n",
              "\n",
              "    .colab-df-buttons div {\n",
              "      margin-bottom: 4px;\n",
              "    }\n",
              "\n",
              "    [theme=dark] .colab-df-convert {\n",
              "      background-color: #3B4455;\n",
              "      fill: #D2E3FC;\n",
              "    }\n",
              "\n",
              "    [theme=dark] .colab-df-convert:hover {\n",
              "      background-color: #434B5C;\n",
              "      box-shadow: 0px 1px 3px 1px rgba(0, 0, 0, 0.15);\n",
              "      filter: drop-shadow(0px 1px 2px rgba(0, 0, 0, 0.3));\n",
              "      fill: #FFFFFF;\n",
              "    }\n",
              "  </style>\n",
              "\n",
              "    <script>\n",
              "      const buttonEl =\n",
              "        document.querySelector('#df-063313c7-710a-4e19-a282-1bc0cfc0ad33 button.colab-df-convert');\n",
              "      buttonEl.style.display =\n",
              "        google.colab.kernel.accessAllowed ? 'block' : 'none';\n",
              "\n",
              "      async function convertToInteractive(key) {\n",
              "        const element = document.querySelector('#df-063313c7-710a-4e19-a282-1bc0cfc0ad33');\n",
              "        const dataTable =\n",
              "          await google.colab.kernel.invokeFunction('convertToInteractive',\n",
              "                                                    [key], {});\n",
              "        if (!dataTable) return;\n",
              "\n",
              "        const docLinkHtml = 'Like what you see? Visit the ' +\n",
              "          '<a target=\"_blank\" href=https://colab.research.google.com/notebooks/data_table.ipynb>data table notebook</a>'\n",
              "          + ' to learn more about interactive tables.';\n",
              "        element.innerHTML = '';\n",
              "        dataTable['output_type'] = 'display_data';\n",
              "        await google.colab.output.renderOutput(dataTable, element);\n",
              "        const docLink = document.createElement('div');\n",
              "        docLink.innerHTML = docLinkHtml;\n",
              "        element.appendChild(docLink);\n",
              "      }\n",
              "    </script>\n",
              "  </div>\n",
              "\n",
              "\n",
              "<div id=\"df-2a82ea64-0ca2-4443-94e7-edc0a47d1064\">\n",
              "  <button class=\"colab-df-quickchart\" onclick=\"quickchart('df-2a82ea64-0ca2-4443-94e7-edc0a47d1064')\"\n",
              "            title=\"Suggest charts\"\n",
              "            style=\"display:none;\">\n",
              "\n",
              "<svg xmlns=\"http://www.w3.org/2000/svg\" height=\"24px\"viewBox=\"0 0 24 24\"\n",
              "     width=\"24px\">\n",
              "    <g>\n",
              "        <path d=\"M19 3H5c-1.1 0-2 .9-2 2v14c0 1.1.9 2 2 2h14c1.1 0 2-.9 2-2V5c0-1.1-.9-2-2-2zM9 17H7v-7h2v7zm4 0h-2V7h2v10zm4 0h-2v-4h2v4z\"/>\n",
              "    </g>\n",
              "</svg>\n",
              "  </button>\n",
              "\n",
              "<style>\n",
              "  .colab-df-quickchart {\n",
              "      --bg-color: #E8F0FE;\n",
              "      --fill-color: #1967D2;\n",
              "      --hover-bg-color: #E2EBFA;\n",
              "      --hover-fill-color: #174EA6;\n",
              "      --disabled-fill-color: #AAA;\n",
              "      --disabled-bg-color: #DDD;\n",
              "  }\n",
              "\n",
              "  [theme=dark] .colab-df-quickchart {\n",
              "      --bg-color: #3B4455;\n",
              "      --fill-color: #D2E3FC;\n",
              "      --hover-bg-color: #434B5C;\n",
              "      --hover-fill-color: #FFFFFF;\n",
              "      --disabled-bg-color: #3B4455;\n",
              "      --disabled-fill-color: #666;\n",
              "  }\n",
              "\n",
              "  .colab-df-quickchart {\n",
              "    background-color: var(--bg-color);\n",
              "    border: none;\n",
              "    border-radius: 50%;\n",
              "    cursor: pointer;\n",
              "    display: none;\n",
              "    fill: var(--fill-color);\n",
              "    height: 32px;\n",
              "    padding: 0;\n",
              "    width: 32px;\n",
              "  }\n",
              "\n",
              "  .colab-df-quickchart:hover {\n",
              "    background-color: var(--hover-bg-color);\n",
              "    box-shadow: 0 1px 2px rgba(60, 64, 67, 0.3), 0 1px 3px 1px rgba(60, 64, 67, 0.15);\n",
              "    fill: var(--button-hover-fill-color);\n",
              "  }\n",
              "\n",
              "  .colab-df-quickchart-complete:disabled,\n",
              "  .colab-df-quickchart-complete:disabled:hover {\n",
              "    background-color: var(--disabled-bg-color);\n",
              "    fill: var(--disabled-fill-color);\n",
              "    box-shadow: none;\n",
              "  }\n",
              "\n",
              "  .colab-df-spinner {\n",
              "    border: 2px solid var(--fill-color);\n",
              "    border-color: transparent;\n",
              "    border-bottom-color: var(--fill-color);\n",
              "    animation:\n",
              "      spin 1s steps(1) infinite;\n",
              "  }\n",
              "\n",
              "  @keyframes spin {\n",
              "    0% {\n",
              "      border-color: transparent;\n",
              "      border-bottom-color: var(--fill-color);\n",
              "      border-left-color: var(--fill-color);\n",
              "    }\n",
              "    20% {\n",
              "      border-color: transparent;\n",
              "      border-left-color: var(--fill-color);\n",
              "      border-top-color: var(--fill-color);\n",
              "    }\n",
              "    30% {\n",
              "      border-color: transparent;\n",
              "      border-left-color: var(--fill-color);\n",
              "      border-top-color: var(--fill-color);\n",
              "      border-right-color: var(--fill-color);\n",
              "    }\n",
              "    40% {\n",
              "      border-color: transparent;\n",
              "      border-right-color: var(--fill-color);\n",
              "      border-top-color: var(--fill-color);\n",
              "    }\n",
              "    60% {\n",
              "      border-color: transparent;\n",
              "      border-right-color: var(--fill-color);\n",
              "    }\n",
              "    80% {\n",
              "      border-color: transparent;\n",
              "      border-right-color: var(--fill-color);\n",
              "      border-bottom-color: var(--fill-color);\n",
              "    }\n",
              "    90% {\n",
              "      border-color: transparent;\n",
              "      border-bottom-color: var(--fill-color);\n",
              "    }\n",
              "  }\n",
              "</style>\n",
              "\n",
              "  <script>\n",
              "    async function quickchart(key) {\n",
              "      const quickchartButtonEl =\n",
              "        document.querySelector('#' + key + ' button');\n",
              "      quickchartButtonEl.disabled = true;  // To prevent multiple clicks.\n",
              "      quickchartButtonEl.classList.add('colab-df-spinner');\n",
              "      try {\n",
              "        const charts = await google.colab.kernel.invokeFunction(\n",
              "            'suggestCharts', [key], {});\n",
              "      } catch (error) {\n",
              "        console.error('Error during call to suggestCharts:', error);\n",
              "      }\n",
              "      quickchartButtonEl.classList.remove('colab-df-spinner');\n",
              "      quickchartButtonEl.classList.add('colab-df-quickchart-complete');\n",
              "    }\n",
              "    (() => {\n",
              "      let quickchartButtonEl =\n",
              "        document.querySelector('#df-2a82ea64-0ca2-4443-94e7-edc0a47d1064 button');\n",
              "      quickchartButtonEl.style.display =\n",
              "        google.colab.kernel.accessAllowed ? 'block' : 'none';\n",
              "    })();\n",
              "  </script>\n",
              "</div>\n",
              "    </div>\n",
              "  </div>\n"
            ]
          },
          "metadata": {},
          "execution_count": 33
        }
      ],
      "source": [
        "dataset_label = pd.read_excel('/content/data_twitter_labeled.xls')\n",
        "dataset_label.head()"
      ]
    },
    {
      "cell_type": "code",
      "source": [
        "# Menggunakan LabelEncoder untuk mengonversi label-string menjadi nilai numerik\n",
        "label_encoder = LabelEncoder()\n",
        "dataset['label'] = label_encoder.fit_transform(dataset['label'])\n",
        "\n",
        "# Menampilkan dataset setelah transformasi\n",
        "print(dataset.head())"
      ],
      "metadata": {
        "colab": {
          "base_uri": "https://localhost:8080/"
        },
        "id": "CLz3SCHbut1D",
        "outputId": "674d1225-6eaf-4e09-e747-95f00d19e645"
      },
      "execution_count": null,
      "outputs": [
        {
          "output_type": "stream",
          "name": "stdout",
          "text": [
            "                                           full_text  label  \\\n",
            "0  menurut laporan bps sumatra utara menjadi prov...      0   \n",
            "1  diguyur hujan deras jalan di lebak banten long...      0   \n",
            "2  bapakibu terdpt jalan yang rusak di daerah gra...      0   \n",
            "3  catatan infrastruktur jalan di indonesia berda...      0   \n",
            "4  jenazah pria bernama arju di polewali mandar t...      0   \n",
            "\n",
            "                                      processed_text  \n",
            "0  menurut laporan bps sumatra utara menjadi prov...  \n",
            "1  diguyur hujan deras jalan di lebak banten long...  \n",
            "2  bapakibu terdpt jalan yang rusak di daerah gra...  \n",
            "3  catatan infrastruktur jalan di indonesia berda...  \n",
            "4  jenazah pria bernama arju di polewali mandar t...  \n"
          ]
        }
      ]
    },
    {
      "cell_type": "code",
      "source": [
        "# Removing the unnecessary columns.\n",
        "dataset = dataset[['full_text','label']]\n",
        "\n",
        "# Replacing the values.\n",
        "dataset['label'] = dataset['label'].replace(4,1)"
      ],
      "metadata": {
        "id": "74KCKoI9qM4E"
      },
      "execution_count": null,
      "outputs": []
    },
    {
      "cell_type": "code",
      "source": [
        "ax = dataset.groupby('label').count().plot(kind='bar', title='Distribution of data',\n",
        "                                               legend=False)\n",
        "ax = ax.set_xticklabels(['tidak urgent','urgent'], rotation=0)"
      ],
      "metadata": {
        "colab": {
          "base_uri": "https://localhost:8080/",
          "height": 472
        },
        "id": "8i3N20CDq13q",
        "outputId": "b2b381b8-4914-4df2-a7aa-f8eb69751657"
      },
      "execution_count": null,
      "outputs": [
        {
          "output_type": "display_data",
          "data": {
            "text/plain": [
              "<Figure size 640x480 with 1 Axes>"
            ],
            "image/png": "[encoded data removed]"
          },
          "metadata": {}
        }
      ]
    },
    {
      "cell_type": "code",
      "source": [
        "# Defining regex patterns.\n",
        "urlPattern        = r\"((http://)[^ ]*|(https://)[^ ]*|(www\\.)[^ ]*)\"\n",
        "userPattern       = '@[^\\s]+'\n",
        "hashtagPattern    = '#[^\\s]+'\n",
        "alphaPattern      = \"[^a-z0-9<>]\"\n",
        "sequencePattern   = r\"(.)\\1\\1+\"\n",
        "seqReplacePattern = r\"\\1\\1\"\n",
        "\n",
        "# Defining regex for emojis\n",
        "smileemoji        = r\"[8:=;]['`\\-]?[)d]+\"\n",
        "sademoji          = r\"[8:=;]['`\\-]?\\(+\"\n",
        "neutralemoji      = r\"[8:=;]['`\\-]?[\\/|l*]\"\n",
        "lolemoji          = r\"[8:=;]['`\\-]?p+\"\n",
        "\n",
        "def preprocess_apply(tweet):\n",
        "\n",
        "    tweet = tweet.lower()\n",
        "\n",
        "    # Replace all URls with '<url>'\n",
        "    tweet = re.sub(urlPattern,'<url>',tweet)\n",
        "    # Replace @USERNAME to '<user>'.\n",
        "    tweet = re.sub(userPattern,'<user>', tweet)\n",
        "\n",
        "    # Replace 3 or more consecutive letters by 2 letter.\n",
        "    tweet = re.sub(sequencePattern, seqReplacePattern, tweet)\n",
        "\n",
        "    # Replace all emojis.\n",
        "    tweet = re.sub(r'<3', '<heart>', tweet)\n",
        "    tweet = re.sub(smileemoji, '<smile>', tweet)\n",
        "    tweet = re.sub(sademoji, '<sadface>', tweet)\n",
        "    tweet = re.sub(neutralemoji, '<neutralface>', tweet)\n",
        "    tweet = re.sub(lolemoji, '<lolface>', tweet)\n",
        "\n",
        "    # Remove non-alphanumeric and symbols\n",
        "    tweet = re.sub(alphaPattern, ' ', tweet)\n",
        "\n",
        "    # Adding space on either side of '/' to seperate words (After replacing URLS).\n",
        "    tweet = re.sub(r'/', ' / ', tweet)\n",
        "    return tweet"
      ],
      "metadata": {
        "id": "31AlLniSrLIn"
      },
      "execution_count": null,
      "outputs": []
    },
    {
      "cell_type": "code",
      "source": [
        "%%time\n",
        "dataset['processed_text'] = dataset.full_text.apply(preprocess_apply)"
      ],
      "metadata": {
        "colab": {
          "base_uri": "https://localhost:8080/"
        },
        "id": "RClmDZcIrsG8",
        "outputId": "f07d7a9f-dee1-4be2-e049-d5d2058a09bc"
      },
      "execution_count": null,
      "outputs": [
        {
          "output_type": "stream",
          "name": "stdout",
          "text": [
            "CPU times: user 167 ms, sys: 1.58 ms, total: 168 ms\n",
            "Wall time: 169 ms\n"
          ]
        }
      ]
    },
    {
      "cell_type": "markdown",
      "metadata": {
        "id": "PzatJIE5tHyr"
      },
      "source": [
        "# **SPLIT DATASET (80:20)**"
      ]
    },
    {
      "cell_type": "code",
      "execution_count": null,
      "metadata": {
        "id": "C8PT4f_pslag"
      },
      "outputs": [],
      "source": [
        "from sklearn.model_selection import train_test_split\n",
        "\n",
        "X_data, y_data = np.array(dataset['full_text']), np.array(dataset['label'])\n",
        "\n",
        "X_train, X_test, y_train, y_test = train_test_split(X_data, y_data,\n",
        "                                                    test_size = 0.2, random_state = 0)"
      ]
    },
    {
      "cell_type": "code",
      "source": [
        "from gensim.models import Word2Vec\n",
        "\n",
        "Embedding_dimensions = 100\n",
        "\n",
        "# Creating Word2Vec training dataset.\n",
        "Word2vec_train_data = list(map(lambda x: x.split(), X_train))"
      ],
      "metadata": {
        "id": "MLJWdBJOoC36"
      },
      "execution_count": null,
      "outputs": []
    },
    {
      "cell_type": "code",
      "source": [
        "%%time\n",
        "\n",
        "# Defining the model and training it.\n",
        "word2vec_model = Word2Vec(Word2vec_train_data,\n",
        "                 vector_size=Embedding_dimensions,\n",
        "                 workers=8,\n",
        "                 min_count=5)\n",
        "\n",
        "print(\"Vocabulary Length:\", len(word2vec_model.wv.key_to_index))"
      ],
      "metadata": {
        "colab": {
          "base_uri": "https://localhost:8080/"
        },
        "id": "SDHMhh9qoMfN",
        "outputId": "fb2e49a7-5542-42d3-b8e4-e0cf45b05a63"
      },
      "execution_count": null,
      "outputs": [
        {
          "output_type": "stream",
          "name": "stdout",
          "text": [
            "Vocabulary Length: 2000\n",
            "CPU times: user 870 ms, sys: 12.1 ms, total: 882 ms\n",
            "Wall time: 540 ms\n"
          ]
        }
      ]
    },
    {
      "cell_type": "code",
      "source": [
        "# Defining the model input length.\n",
        "input_length = 100\n",
        "\n",
        "from tensorflow.keras.preprocessing.text import Tokenizer\n",
        "from tensorflow.keras.preprocessing.sequence import pad_sequences"
      ],
      "metadata": {
        "id": "oiwv-DLFoRjp"
      },
      "execution_count": null,
      "outputs": []
    },
    {
      "cell_type": "code",
      "source": [
        "vocab_length = 3000\n",
        "\n",
        "tokenizer = Tokenizer(filters=\"\", lower=False, oov_token=\"<oov>\")\n",
        "tokenizer.fit_on_texts(X_data)\n",
        "tokenizer.num_words = vocab_length\n",
        "print(\"Tokenizer vocab length:\", vocab_length)"
      ],
      "metadata": {
        "colab": {
          "base_uri": "https://localhost:8080/"
        },
        "id": "3TC3c81soXRs",
        "outputId": "4bc32efd-10b1-4de6-d619-19202cca1a06"
      },
      "execution_count": null,
      "outputs": [
        {
          "output_type": "stream",
          "name": "stdout",
          "text": [
            "Tokenizer vocab length: 3000\n"
          ]
        }
      ]
    },
    {
      "cell_type": "code",
      "source": [
        "X_train = pad_sequences(tokenizer.texts_to_sequences(X_train), maxlen=input_length)\n",
        "X_test  = pad_sequences(tokenizer.texts_to_sequences(X_test) , maxlen=input_length)\n",
        "\n",
        "print(\"X_train.shape:\", X_train.shape)\n",
        "print(\"X_test.shape :\", X_test.shape)"
      ],
      "metadata": {
        "colab": {
          "base_uri": "https://localhost:8080/"
        },
        "id": "25R1uvnFozPq",
        "outputId": "12595444-274f-496d-cc79-cdb0e0c52731"
      },
      "execution_count": null,
      "outputs": [
        {
          "output_type": "stream",
          "name": "stdout",
          "text": [
            "X_train.shape: (4414, 100)\n",
            "X_test.shape : (1104, 100)\n"
          ]
        }
      ]
    },
    {
      "cell_type": "code",
      "source": [
        "embedding_matrix = np.zeros((vocab_length, Embedding_dimensions))\n",
        "\n",
        "for word, token in tokenizer.word_index.items():\n",
        "    if word2vec_model.wv.__contains__(word):\n",
        "        embedding_matrix[token] = word2vec_model.wv.__getitem__(word)\n",
        "\n",
        "print(\"Embedding Matrix Shape:\", embedding_matrix.shape)"
      ],
      "metadata": {
        "colab": {
          "base_uri": "https://localhost:8080/"
        },
        "id": "x6KyQ5ZupKGi",
        "outputId": "17c98e24-a889-454d-9cf3-533e91e5b9c5"
      },
      "execution_count": null,
      "outputs": [
        {
          "output_type": "stream",
          "name": "stdout",
          "text": [
            "Embedding Matrix Shape: (3000, 100)\n"
          ]
        }
      ]
    },
    {
      "cell_type": "code",
      "source": [
        "from tensorflow.keras import Sequential\n",
        "from tensorflow.keras.layers import Bidirectional, GlobalMaxPool1D, Dense, LSTM, Conv1D, Embedding"
      ],
      "metadata": {
        "id": "gSMiSBuNpUF2"
      },
      "execution_count": null,
      "outputs": []
    },
    {
      "cell_type": "code",
      "source": [
        "def getModel():\n",
        "    embedding_layer = Embedding(input_dim = vocab_length,\n",
        "                                output_dim = Embedding_dimensions,\n",
        "                                weights=[embedding_matrix],\n",
        "                                input_length=input_length,\n",
        "                                trainable=False)\n",
        "\n",
        "    model = Sequential([\n",
        "        embedding_layer,\n",
        "        Bidirectional(LSTM(100, dropout=0.3, return_sequences=True)),\n",
        "        Bidirectional(LSTM(100, dropout=0.3, return_sequences=True)),\n",
        "        Conv1D(100, 5, activation='relu'),\n",
        "        GlobalMaxPool1D(),\n",
        "        Dense(16, activation='relu'),\n",
        "        Dense(1, activation='sigmoid'),\n",
        "    ],\n",
        "    name=\"Sentiment_Model\")\n",
        "    return model"
      ],
      "metadata": {
        "id": "Hx0mCNK8pbvF"
      },
      "execution_count": null,
      "outputs": []
    },
    {
      "cell_type": "code",
      "source": [
        "training_model = getModel()\n",
        "training_model.summary()"
      ],
      "metadata": {
        "colab": {
          "base_uri": "https://localhost:8080/"
        },
        "id": "1yyqJsE6pdxV",
        "outputId": "2e095847-6d7c-4554-a15c-9c319ad0bcc8"
      },
      "execution_count": null,
      "outputs": [
        {
          "output_type": "stream",
          "name": "stdout",
          "text": [
            "Model: \"Sentiment_Model\"\n",
            "_________________________________________________________________\n",
            " Layer (type)                Output Shape              Param #   \n",
            "=================================================================\n",
            " embedding_2 (Embedding)     (None, 100, 100)          300000    \n",
            "                                                                 \n",
            " bidirectional_4 (Bidirecti  (None, 100, 200)          160800    \n",
            " onal)                                                           \n",
            "                                                                 \n",
            " bidirectional_5 (Bidirecti  (None, 100, 200)          240800    \n",
            " onal)                                                           \n",
            "                                                                 \n",
            " conv1d_2 (Conv1D)           (None, 96, 100)           100100    \n",
            "                                                                 \n",
            " global_max_pooling1d_2 (Gl  (None, 100)               0         \n",
            " obalMaxPooling1D)                                               \n",
            "                                                                 \n",
            " dense_4 (Dense)             (None, 16)                1616      \n",
            "                                                                 \n",
            " dense_5 (Dense)             (None, 1)                 17        \n",
            "                                                                 \n",
            "=================================================================\n",
            "Total params: 803333 (3.06 MB)\n",
            "Trainable params: 503333 (1.92 MB)\n",
            "Non-trainable params: 300000 (1.14 MB)\n",
            "_________________________________________________________________\n"
          ]
        }
      ]
    },
    {
      "cell_type": "code",
      "source": [
        "from tensorflow.keras.callbacks import ReduceLROnPlateau, EarlyStopping\n",
        "\n",
        "callbacks = [ReduceLROnPlateau(monitor='val_loss', patience=5, cooldown=0),\n",
        "             EarlyStopping(monitor='val_accuracy', min_delta=1e-4, patience=5)]"
      ],
      "metadata": {
        "id": "opSitVUKpg-F"
      },
      "execution_count": null,
      "outputs": []
    },
    {
      "cell_type": "code",
      "source": [
        "training_model.compile(loss='binary_crossentropy', optimizer='adam', metrics=['accuracy'])"
      ],
      "metadata": {
        "id": "KVVf1qZNpjmL"
      },
      "execution_count": null,
      "outputs": []
    },
    {
      "cell_type": "code",
      "source": [
        "history = training_model.fit(\n",
        "    X_train, y_train,\n",
        "    batch_size=1024,\n",
        "    epochs=100,\n",
        "    validation_split=0.1,\n",
        "    callbacks=callbacks,\n",
        "    verbose=1,\n",
        ")"
      ],
      "metadata": {
        "colab": {
          "base_uri": "https://localhost:8080/"
        },
        "id": "Dzue-e1xpmyP",
        "outputId": "f498162c-e11d-47d6-e697-4765c94592e0"
      },
      "execution_count": null,
      "outputs": [
        {
          "output_type": "stream",
          "name": "stdout",
          "text": [
            "Epoch 1/100\n",
            "4/4 [==============================] - 52s 10s/step - loss: 0.6235 - accuracy: 0.6040 - val_loss: 0.5696 - val_accuracy: 0.6946 - lr: 0.0010\n",
            "Epoch 2/100\n",
            "4/4 [==============================] - 39s 9s/step - loss: 0.5302 - accuracy: 0.7369 - val_loss: 0.5383 - val_accuracy: 0.7262 - lr: 0.0010\n",
            "Epoch 3/100\n",
            "4/4 [==============================] - 36s 9s/step - loss: 0.4899 - accuracy: 0.7747 - val_loss: 0.5040 - val_accuracy: 0.7738 - lr: 0.0010\n",
            "Epoch 4/100\n",
            "4/4 [==============================] - 39s 10s/step - loss: 0.4493 - accuracy: 0.8285 - val_loss: 0.4471 - val_accuracy: 0.8258 - lr: 0.0010\n",
            "Epoch 5/100\n",
            "4/4 [==============================] - 36s 9s/step - loss: 0.4102 - accuracy: 0.8515 - val_loss: 0.4110 - val_accuracy: 0.8394 - lr: 0.0010\n",
            "Epoch 6/100\n",
            "4/4 [==============================] - 37s 9s/step - loss: 0.3834 - accuracy: 0.8593 - val_loss: 0.4031 - val_accuracy: 0.8529 - lr: 0.0010\n",
            "Epoch 7/100\n",
            "4/4 [==============================] - 36s 9s/step - loss: 0.3629 - accuracy: 0.8676 - val_loss: 0.3802 - val_accuracy: 0.8507 - lr: 0.0010\n",
            "Epoch 8/100\n",
            "4/4 [==============================] - 36s 9s/step - loss: 0.3467 - accuracy: 0.8713 - val_loss: 0.3877 - val_accuracy: 0.8394 - lr: 0.0010\n",
            "Epoch 9/100\n",
            "4/4 [==============================] - 36s 9s/step - loss: 0.3557 - accuracy: 0.8635 - val_loss: 0.3703 - val_accuracy: 0.8462 - lr: 0.0010\n",
            "Epoch 10/100\n",
            "4/4 [==============================] - 35s 9s/step - loss: 0.3334 - accuracy: 0.8764 - val_loss: 0.3718 - val_accuracy: 0.8529 - lr: 0.0010\n",
            "Epoch 11/100\n",
            "4/4 [==============================] - 38s 10s/step - loss: 0.3315 - accuracy: 0.8764 - val_loss: 0.3683 - val_accuracy: 0.8597 - lr: 0.0010\n",
            "Epoch 12/100\n",
            "4/4 [==============================] - 35s 9s/step - loss: 0.3267 - accuracy: 0.8847 - val_loss: 0.3574 - val_accuracy: 0.8529 - lr: 0.0010\n",
            "Epoch 13/100\n",
            "4/4 [==============================] - 38s 9s/step - loss: 0.3209 - accuracy: 0.8844 - val_loss: 0.3581 - val_accuracy: 0.8643 - lr: 0.0010\n",
            "Epoch 14/100\n",
            "4/4 [==============================] - 35s 9s/step - loss: 0.3232 - accuracy: 0.8822 - val_loss: 0.3469 - val_accuracy: 0.8643 - lr: 0.0010\n",
            "Epoch 15/100\n",
            "4/4 [==============================] - 36s 9s/step - loss: 0.3136 - accuracy: 0.8882 - val_loss: 0.3765 - val_accuracy: 0.8575 - lr: 0.0010\n",
            "Epoch 16/100\n",
            "4/4 [==============================] - 37s 9s/step - loss: 0.3197 - accuracy: 0.8849 - val_loss: 0.3452 - val_accuracy: 0.8643 - lr: 0.0010\n",
            "Epoch 17/100\n",
            "4/4 [==============================] - 36s 9s/step - loss: 0.3113 - accuracy: 0.8915 - val_loss: 0.3330 - val_accuracy: 0.8756 - lr: 0.0010\n",
            "Epoch 18/100\n",
            "4/4 [==============================] - 40s 10s/step - loss: 0.3032 - accuracy: 0.8958 - val_loss: 0.3379 - val_accuracy: 0.8643 - lr: 0.0010\n",
            "Epoch 19/100\n",
            "4/4 [==============================] - 36s 9s/step - loss: 0.2961 - accuracy: 0.8965 - val_loss: 0.3311 - val_accuracy: 0.8733 - lr: 0.0010\n",
            "Epoch 20/100\n",
            "4/4 [==============================] - 38s 9s/step - loss: 0.2983 - accuracy: 0.8985 - val_loss: 0.3215 - val_accuracy: 0.8733 - lr: 0.0010\n",
            "Epoch 21/100\n",
            "4/4 [==============================] - 35s 9s/step - loss: 0.2894 - accuracy: 0.9051 - val_loss: 0.3264 - val_accuracy: 0.8733 - lr: 0.0010\n",
            "Epoch 22/100\n",
            "4/4 [==============================] - 37s 9s/step - loss: 0.2904 - accuracy: 0.9016 - val_loss: 0.3152 - val_accuracy: 0.8824 - lr: 0.0010\n",
            "Epoch 23/100\n",
            "4/4 [==============================] - 36s 9s/step - loss: 0.2894 - accuracy: 0.9041 - val_loss: 0.3167 - val_accuracy: 0.8778 - lr: 0.0010\n",
            "Epoch 24/100\n",
            "4/4 [==============================] - 35s 9s/step - loss: 0.2873 - accuracy: 0.9051 - val_loss: 0.3166 - val_accuracy: 0.8846 - lr: 0.0010\n",
            "Epoch 25/100\n",
            "4/4 [==============================] - 37s 9s/step - loss: 0.2869 - accuracy: 0.9061 - val_loss: 0.3080 - val_accuracy: 0.8846 - lr: 0.0010\n",
            "Epoch 26/100\n",
            "4/4 [==============================] - 35s 9s/step - loss: 0.2837 - accuracy: 0.9074 - val_loss: 0.3205 - val_accuracy: 0.8710 - lr: 0.0010\n",
            "Epoch 27/100\n",
            "4/4 [==============================] - 37s 9s/step - loss: 0.2834 - accuracy: 0.9036 - val_loss: 0.3043 - val_accuracy: 0.8914 - lr: 0.0010\n",
            "Epoch 28/100\n",
            "4/4 [==============================] - 35s 9s/step - loss: 0.2792 - accuracy: 0.9101 - val_loss: 0.3036 - val_accuracy: 0.8891 - lr: 0.0010\n",
            "Epoch 29/100\n",
            "4/4 [==============================] - 37s 9s/step - loss: 0.2808 - accuracy: 0.9084 - val_loss: 0.3032 - val_accuracy: 0.8869 - lr: 0.0010\n",
            "Epoch 30/100\n",
            "4/4 [==============================] - 36s 9s/step - loss: 0.2728 - accuracy: 0.9114 - val_loss: 0.2999 - val_accuracy: 0.8914 - lr: 0.0010\n",
            "Epoch 31/100\n",
            "4/4 [==============================] - 35s 9s/step - loss: 0.2679 - accuracy: 0.9119 - val_loss: 0.2972 - val_accuracy: 0.8914 - lr: 0.0010\n",
            "Epoch 32/100\n",
            "4/4 [==============================] - 37s 9s/step - loss: 0.2684 - accuracy: 0.9119 - val_loss: 0.2955 - val_accuracy: 0.8891 - lr: 0.0010\n"
          ]
        }
      ]
    },
    {
      "cell_type": "code",
      "source": [
        "acc,  val_acc  = history.history['accuracy'], history.history['val_accuracy']\n",
        "loss, val_loss = history.history['loss'], history.history['val_loss']\n",
        "epochs = range(len(acc))\n",
        "\n",
        "plt.plot(epochs, acc, 'b', label='Training acc')\n",
        "plt.plot(epochs, val_acc, 'r', label='Validation acc')\n",
        "plt.title('Training and validation accuracy')\n",
        "plt.legend()\n",
        "\n",
        "plt.figure()\n",
        "\n",
        "plt.plot(epochs, loss, 'b', label='Training loss')\n",
        "plt.plot(epochs, val_loss, 'r', label='Validation loss')\n",
        "plt.title('Training and validation loss')\n",
        "plt.legend()\n",
        "\n",
        "plt.show()"
      ],
      "metadata": {
        "colab": {
          "base_uri": "https://localhost:8080/",
          "height": 887
        },
        "id": "IXfJcdMIz6ni",
        "outputId": "ba960f46-b542-4e52-cc66-df92dbaf8ab6"
      },
      "execution_count": null,
      "outputs": [
        {
          "output_type": "display_data",
          "data": {
            "text/plain": [
              "<Figure size 640x480 with 1 Axes>"
            ],
            "image/png": "[encoded data removed]"
          },
          "metadata": {}
        },
        {
          "output_type": "display_data",
          "data": {
            "text/plain": [
              "<Figure size 640x480 with 1 Axes>"
            ],
            "image/png": "[encoded data removed]"
          },
          "metadata": {}
        }
      ]
    },
    {
      "cell_type": "code",
      "source": [
        "def ConfusionMatrix(y_pred, y_test):\n",
        "    cf_matrix = confusion_matrix(y_test, y_pred)\n",
        "\n",
        "    categories  = ['Tidak urgent', 'Urgent']\n",
        "    sns.heatmap(cf_matrix, annot=True, cmap='Blues', fmt='', xticklabels=categories, yticklabels=categories)\n",
        "\n",
        "    plt.xlabel(\"Predicted values\", fontdict={'size':14}, labelpad=10)\n",
        "    plt.ylabel(\"Actual values\", fontdict={'size':14}, labelpad=10)\n",
        "    plt.title(\"Confusion Matrix\", fontdict={'size':18}, pad=20)"
      ],
      "metadata": {
        "id": "CeFEkWLc0JdF"
      },
      "execution_count": null,
      "outputs": []
    },
    {
      "cell_type": "code",
      "source": [
        "# Predicting on the Test dataset.\n",
        "y_pred = training_model.predict(X_test)\n",
        "\n",
        "# Converting prediction to reflect the sentiment predicted.\n",
        "y_pred = np.where(y_pred>=0.5, 1, 0)\n",
        "\n",
        "# Printing out the Evaluation metrics.\n",
        "ConfusionMatrix(y_pred, y_test)"
      ],
      "metadata": {
        "colab": {
          "base_uri": "https://localhost:8080/",
          "height": 526
        },
        "id": "5BNM90iH0M05",
        "outputId": "2088dcb8-c96e-461c-d700-81f84917eb02"
      },
      "execution_count": null,
      "outputs": [
        {
          "output_type": "stream",
          "name": "stdout",
          "text": [
            "35/35 [==============================] - 6s 158ms/step\n"
          ]
        },
        {
          "output_type": "display_data",
          "data": {
            "text/plain": [
              "<Figure size 640x480 with 2 Axes>"
            ],
            "image/png": "[encoded data removed]"
          },
          "metadata": {}
        }
      ]
    },
    {
      "cell_type": "code",
      "source": [
        "# Print the evaluation metrics for the dataset.\n",
        "print(classification_report(y_test, y_pred))"
      ],
      "metadata": {
        "colab": {
          "base_uri": "https://localhost:8080/"
        },
        "id": "PZxU_DiR0SkT",
        "outputId": "281042d9-69cc-46fe-f29c-de0ff3d97cff"
      },
      "execution_count": null,
      "outputs": [
        {
          "output_type": "stream",
          "name": "stdout",
          "text": [
            "              precision    recall  f1-score   support\n",
            "\n",
            "           0       0.88      0.98      0.93       772\n",
            "           1       0.95      0.68      0.80       332\n",
            "\n",
            "    accuracy                           0.89      1104\n",
            "   macro avg       0.91      0.83      0.86      1104\n",
            "weighted avg       0.90      0.89      0.89      1104\n",
            "\n"
          ]
        }
      ]
    }
  ],
  "metadata": {
    "colab": {
      "provenance": []
    },
    "kernelspec": {
      "display_name": "Python 3",
      "name": "python3"
    },
    "language_info": {
      "name": "python"
    }
  },
  "nbformat": 4,
  "nbformat_minor": 0
}